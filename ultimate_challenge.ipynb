{
 "cells": [
  {
   "cell_type": "markdown",
   "metadata": {},
   "source": [
    "# ultimate Challenge\n",
    "\n"
   ]
  },
  {
   "cell_type": "code",
   "execution_count": 119,
   "metadata": {},
   "outputs": [],
   "source": [
    "# libraries\n",
    "import numpy as np\n",
    "import pandas as pd\n",
    "from matplotlib import pyplot as plt\n",
    "%matplotlib inline\n",
    "import seaborn as sns\n",
    "import datetime\n",
    "import json\n"
   ]
  },
  {
   "cell_type": "markdown",
   "metadata": {},
   "source": [
    "## Part 1 ‑ Exploratory data analysis\n",
    "The attached logins.json file contains (simulated) timestamps of user logins in a particular geographic location. Aggregate these login counts based on 15minute time intervals, and visualize and describe the resulting time series of login counts in ways that best characterize the underlying patterns of the demand. Please report/illustrate important features of the demand, such as daily cycles. If there are data quality issues, please report them."
   ]
  },
  {
   "cell_type": "code",
   "execution_count": 2,
   "metadata": {},
   "outputs": [
    {
     "name": "stdout",
     "output_type": "stream",
     "text": [
      "(93142, 1)\n"
     ]
    },
    {
     "data": {
      "text/html": [
       "<div>\n",
       "<style scoped>\n",
       "    .dataframe tbody tr th:only-of-type {\n",
       "        vertical-align: middle;\n",
       "    }\n",
       "\n",
       "    .dataframe tbody tr th {\n",
       "        vertical-align: top;\n",
       "    }\n",
       "\n",
       "    .dataframe thead th {\n",
       "        text-align: right;\n",
       "    }\n",
       "</style>\n",
       "<table border=\"1\" class=\"dataframe\">\n",
       "  <thead>\n",
       "    <tr style=\"text-align: right;\">\n",
       "      <th></th>\n",
       "      <th>login_time</th>\n",
       "    </tr>\n",
       "  </thead>\n",
       "  <tbody>\n",
       "    <tr>\n",
       "      <th>0</th>\n",
       "      <td>1970-01-01 20:13:18</td>\n",
       "    </tr>\n",
       "    <tr>\n",
       "      <th>1</th>\n",
       "      <td>1970-01-01 20:16:10</td>\n",
       "    </tr>\n",
       "    <tr>\n",
       "      <th>2</th>\n",
       "      <td>1970-01-01 20:16:37</td>\n",
       "    </tr>\n",
       "    <tr>\n",
       "      <th>3</th>\n",
       "      <td>1970-01-01 20:16:36</td>\n",
       "    </tr>\n",
       "    <tr>\n",
       "      <th>4</th>\n",
       "      <td>1970-01-01 20:26:21</td>\n",
       "    </tr>\n",
       "  </tbody>\n",
       "</table>\n",
       "</div>"
      ],
      "text/plain": [
       "           login_time\n",
       "0 1970-01-01 20:13:18\n",
       "1 1970-01-01 20:16:10\n",
       "2 1970-01-01 20:16:37\n",
       "3 1970-01-01 20:16:36\n",
       "4 1970-01-01 20:26:21"
      ]
     },
     "execution_count": 2,
     "metadata": {},
     "output_type": "execute_result"
    }
   ],
   "source": [
    "# read login df\n",
    "login = pd.read_json(\"logins.json\")\n",
    "print(login.shape)\n",
    "login.head()"
   ]
  },
  {
   "cell_type": "code",
   "execution_count": 3,
   "metadata": {},
   "outputs": [],
   "source": [
    "# convert to datetime and set index\n",
    "login[\"login_time\"] = pd.to_datetime(login[\"login_time\"])\n",
    "login = login.set_index(\"login_time\")\n",
    "login[\"count\"] = 1"
   ]
  },
  {
   "cell_type": "code",
   "execution_count": 4,
   "metadata": {},
   "outputs": [
    {
     "name": "stdout",
     "output_type": "stream",
     "text": [
      "(9788, 2)\n"
     ]
    },
    {
     "data": {
      "text/html": [
       "<div>\n",
       "<style scoped>\n",
       "    .dataframe tbody tr th:only-of-type {\n",
       "        vertical-align: middle;\n",
       "    }\n",
       "\n",
       "    .dataframe tbody tr th {\n",
       "        vertical-align: top;\n",
       "    }\n",
       "\n",
       "    .dataframe thead th {\n",
       "        text-align: right;\n",
       "    }\n",
       "</style>\n",
       "<table border=\"1\" class=\"dataframe\">\n",
       "  <thead>\n",
       "    <tr style=\"text-align: right;\">\n",
       "      <th></th>\n",
       "      <th>login_time</th>\n",
       "      <th>count</th>\n",
       "    </tr>\n",
       "  </thead>\n",
       "  <tbody>\n",
       "    <tr>\n",
       "      <th>0</th>\n",
       "      <td>1970-01-01 20:00:00</td>\n",
       "      <td>2</td>\n",
       "    </tr>\n",
       "    <tr>\n",
       "      <th>1</th>\n",
       "      <td>1970-01-01 20:15:00</td>\n",
       "      <td>6</td>\n",
       "    </tr>\n",
       "  </tbody>\n",
       "</table>\n",
       "</div>"
      ],
      "text/plain": [
       "           login_time  count\n",
       "0 1970-01-01 20:00:00      2\n",
       "1 1970-01-01 20:15:00      6"
      ]
     },
     "execution_count": 4,
     "metadata": {},
     "output_type": "execute_result"
    }
   ],
   "source": [
    "# resample the index and get 15min count\n",
    "login15min = login.resample('15Min').sum().reset_index()\n",
    "print(login15min.shape)\n",
    "login15min.head(2)"
   ]
  },
  {
   "cell_type": "code",
   "execution_count": 5,
   "metadata": {},
   "outputs": [
    {
     "name": "stderr",
     "output_type": "stream",
     "text": [
      "C:\\Users\\yadav\\Anaconda3\\lib\\site-packages\\pandas\\plotting\\_converter.py:129: FutureWarning: Using an implicitly registered datetime converter for a matplotlib plotting method. The converter was registered by pandas on import. Future versions of pandas will require you to explicitly register matplotlib converters.\n",
      "\n",
      "To register the converters:\n",
      "\t>>> from pandas.plotting import register_matplotlib_converters\n",
      "\t>>> register_matplotlib_converters()\n",
      "  warnings.warn(msg, FutureWarning)\n"
     ]
    },
    {
     "data": {
      "text/plain": [
       "Text(0.5, 1.0, 'Login Counts per 15Min Interval')"
      ]
     },
     "execution_count": 5,
     "metadata": {},
     "output_type": "execute_result"
    },
    {
     "data": {
      "image/png": "[encoded data removed]",
      "text/plain": [
       "<Figure size 1080x360 with 1 Axes>"
      ]
     },
     "metadata": {
      "needs_background": "light"
     },
     "output_type": "display_data"
    }
   ],
   "source": [
    "plt.figure(figsize=(15,5))\n",
    "plt.tight_layout()\n",
    "plt.plot(login15min[\"login_time\"],login15min[\"count\"])\n",
    "plt.xlabel('Login Time (15Min Interval)')\n",
    "plt.ylabel('Login Counts')\n",
    "plt.title(\"Login Counts per 15Min Interval\")"
   ]
  },
  {
   "cell_type": "markdown",
   "metadata": {},
   "source": [
    "Looks like login count pattern is like waves i.e. increasing slowly and then droping suddenly. Will extract year, month, day, hour, minute, seconds to analyse in detail"
   ]
  },
  {
   "cell_type": "code",
   "execution_count": 6,
   "metadata": {},
   "outputs": [],
   "source": [
    "# reset index\n",
    "login = login.reset_index().drop(\"count\",axis=1)"
   ]
  },
  {
   "cell_type": "code",
   "execution_count": 133,
   "metadata": {},
   "outputs": [
    {
     "data": {
      "text/html": [
       "<div>\n",
       "<style scoped>\n",
       "    .dataframe tbody tr th:only-of-type {\n",
       "        vertical-align: middle;\n",
       "    }\n",
       "\n",
       "    .dataframe tbody tr th {\n",
       "        vertical-align: top;\n",
       "    }\n",
       "\n",
       "    .dataframe thead th {\n",
       "        text-align: right;\n",
       "    }\n",
       "</style>\n",
       "<table border=\"1\" class=\"dataframe\">\n",
       "  <thead>\n",
       "    <tr style=\"text-align: right;\">\n",
       "      <th></th>\n",
       "      <th>login_time</th>\n",
       "      <th>date</th>\n",
       "      <th>time</th>\n",
       "      <th>year</th>\n",
       "      <th>month</th>\n",
       "      <th>day</th>\n",
       "      <th>hour</th>\n",
       "      <th>minute</th>\n",
       "      <th>second</th>\n",
       "      <th>dayOfWeek</th>\n",
       "    </tr>\n",
       "  </thead>\n",
       "  <tbody>\n",
       "    <tr>\n",
       "      <th>0</th>\n",
       "      <td>1970-01-01 20:13:18</td>\n",
       "      <td>1970-01-01</td>\n",
       "      <td>20:13:18</td>\n",
       "      <td>1970</td>\n",
       "      <td>1</td>\n",
       "      <td>1</td>\n",
       "      <td>20</td>\n",
       "      <td>13</td>\n",
       "      <td>18</td>\n",
       "      <td>3</td>\n",
       "    </tr>\n",
       "    <tr>\n",
       "      <th>1</th>\n",
       "      <td>1970-01-01 20:16:10</td>\n",
       "      <td>1970-01-01</td>\n",
       "      <td>20:16:10</td>\n",
       "      <td>1970</td>\n",
       "      <td>1</td>\n",
       "      <td>1</td>\n",
       "      <td>20</td>\n",
       "      <td>16</td>\n",
       "      <td>10</td>\n",
       "      <td>3</td>\n",
       "    </tr>\n",
       "    <tr>\n",
       "      <th>2</th>\n",
       "      <td>1970-01-01 20:16:37</td>\n",
       "      <td>1970-01-01</td>\n",
       "      <td>20:16:37</td>\n",
       "      <td>1970</td>\n",
       "      <td>1</td>\n",
       "      <td>1</td>\n",
       "      <td>20</td>\n",
       "      <td>16</td>\n",
       "      <td>37</td>\n",
       "      <td>3</td>\n",
       "    </tr>\n",
       "    <tr>\n",
       "      <th>3</th>\n",
       "      <td>1970-01-01 20:16:36</td>\n",
       "      <td>1970-01-01</td>\n",
       "      <td>20:16:36</td>\n",
       "      <td>1970</td>\n",
       "      <td>1</td>\n",
       "      <td>1</td>\n",
       "      <td>20</td>\n",
       "      <td>16</td>\n",
       "      <td>36</td>\n",
       "      <td>3</td>\n",
       "    </tr>\n",
       "    <tr>\n",
       "      <th>4</th>\n",
       "      <td>1970-01-01 20:26:21</td>\n",
       "      <td>1970-01-01</td>\n",
       "      <td>20:26:21</td>\n",
       "      <td>1970</td>\n",
       "      <td>1</td>\n",
       "      <td>1</td>\n",
       "      <td>20</td>\n",
       "      <td>26</td>\n",
       "      <td>21</td>\n",
       "      <td>3</td>\n",
       "    </tr>\n",
       "  </tbody>\n",
       "</table>\n",
       "</div>"
      ],
      "text/plain": [
       "           login_time        date      time  year  month  day  hour  minute  \\\n",
       "0 1970-01-01 20:13:18  1970-01-01  20:13:18  1970      1    1    20      13   \n",
       "1 1970-01-01 20:16:10  1970-01-01  20:16:10  1970      1    1    20      16   \n",
       "2 1970-01-01 20:16:37  1970-01-01  20:16:37  1970      1    1    20      16   \n",
       "3 1970-01-01 20:16:36  1970-01-01  20:16:36  1970      1    1    20      16   \n",
       "4 1970-01-01 20:26:21  1970-01-01  20:26:21  1970      1    1    20      26   \n",
       "\n",
       "   second  dayOfWeek  \n",
       "0      18          3  \n",
       "1      10          3  \n",
       "2      37          3  \n",
       "3      36          3  \n",
       "4      21          3  "
      ]
     },
     "execution_count": 133,
     "metadata": {},
     "output_type": "execute_result"
    }
   ],
   "source": [
    "login[\"date\"] = [x.date() for x in login[\"login_time\"]]\n",
    "login[\"time\"] = [x.time() for x in login[\"login_time\"]]\n",
    "login[\"year\"] = [x.year for x in login[\"login_time\"]]\n",
    "login[\"month\"] = [x.month for x in login[\"login_time\"]]\n",
    "login[\"day\"] = [x.day for x in login[\"login_time\"]]\n",
    "login[\"hour\"] = [x.hour for x in login[\"login_time\"]]\n",
    "login[\"minute\"] = [x.minute for x in login[\"login_time\"]]\n",
    "login[\"second\"] = [x.second for x in login[\"login_time\"]]\n",
    "login[\"dayOfWeek\"] = [x.dayofweek for x in login[\"login_time\"]]\n",
    "login.head()"
   ]
  },
  {
   "cell_type": "code",
   "execution_count": null,
   "metadata": {},
   "outputs": [],
   "source": []
  },
  {
   "cell_type": "markdown",
   "metadata": {},
   "source": [
    "### Login Count Date Wise"
   ]
  },
  {
   "cell_type": "code",
   "execution_count": 8,
   "metadata": {},
   "outputs": [
    {
     "data": {
      "text/plain": [
       "Text(0.5, 1.0, 'Daily Login Count')"
      ]
     },
     "execution_count": 8,
     "metadata": {},
     "output_type": "execute_result"
    },
    {
     "data": {
      "image/png": "[encoded data removed]",
      "text/plain": [
       "<Figure size 720x432 with 1 Axes>"
      ]
     },
     "metadata": {
      "needs_background": "light"
     },
     "output_type": "display_data"
    }
   ],
   "source": [
    "plt.figure(figsize=(10,6))\n",
    "plt.tight_layout()\n",
    "plot = login[\"date\"].value_counts().plot()\n",
    "plt.xlabel(\"Login Dates\")\n",
    "plt.xticks(rotation=50)\n",
    "plt.ylabel(\"Login Count\")\n",
    "plt.title(\"Daily Login Count\")\n"
   ]
  },
  {
   "cell_type": "code",
   "execution_count": null,
   "metadata": {},
   "outputs": [],
   "source": []
  },
  {
   "cell_type": "code",
   "execution_count": null,
   "metadata": {},
   "outputs": [],
   "source": []
  },
  {
   "cell_type": "code",
   "execution_count": null,
   "metadata": {
    "scrolled": true
   },
   "outputs": [],
   "source": []
  },
  {
   "cell_type": "code",
   "execution_count": 49,
   "metadata": {
    "scrolled": true
   },
   "outputs": [],
   "source": [
    "loginDaily = pd.DataFrame(login.resample('D',on=\"login_time\").size().reset_index()).rename(columns={0:\"count\"})\n",
    "loginWkday = pd.DataFrame(login.resample('B',on=\"login_time\").size().reset_index()).rename(columns={0:\"count\"})\n",
    "loginFri = pd.DataFrame(login.resample('W-FRI',on=\"login_time\").size().reset_index()).rename(columns={0:\"count\"})\n",
    "loginSat = pd.DataFrame(login.resample('W-SAT',on=\"login_time\").size().reset_index()).rename(columns={0:\"count\"})\n",
    "loginSun = pd.DataFrame(login.resample('W-SUN',on=\"login_time\").size().reset_index()).rename(columns={0:\"count\"})"
   ]
  },
  {
   "cell_type": "code",
   "execution_count": 78,
   "metadata": {},
   "outputs": [
    {
     "data": {
      "text/plain": [
       "Text(0.5, 1.0, 'Login pattern over time')"
      ]
     },
     "execution_count": 78,
     "metadata": {},
     "output_type": "execute_result"
    },
    {
     "data": {
      "image/png": "[encoded data removed]",
      "text/plain": [
       "<Figure size 1080x576 with 1 Axes>"
      ]
     },
     "metadata": {
      "needs_background": "light"
     },
     "output_type": "display_data"
    }
   ],
   "source": [
    "# plot these collected bins\n",
    "plt.subplots(figsize = (15,8))\n",
    "plt.tight_layout()\n",
    "plt.bar(loginDaily[\"login_time\"],loginDaily[\"count\"],align=\"center\",width=0.1,color=\"Black\",label=\"Daily Count\")\n",
    "plt.bar(loginWkday[\"login_time\"],loginWkday[\"count\"],align=\"center\",width=0.1,color=\"Black\",label=\"Weekday Count\")\n",
    "plt.bar(loginFri[\"login_time\"],loginFri[\"count\"],align=\"center\",width=0.1,color=\"R\",label=\"Friday Count\")\n",
    "plt.bar(loginSat[\"login_time\"],loginSat[\"count\"],align=\"center\",width=0.1,color=\"B\",label=\"Saturday Count\")\n",
    "plt.bar(loginSun[\"login_time\"],loginSun[\"count\"],align=\"center\",width=0.1,color=\"G\",label=\"Sunday Count\")\n",
    "plt.scatter(loginWkday[\"login_time\"],loginWkday[\"count\"])\n",
    "\n",
    "plt.legend(loc='upper left', fontsize = 16)\n",
    "plt.xlabel(\"Time\", fontsize = 25)\n",
    "plt.ylabel(\"Logins Count\", fontsize = 25)\n",
    "plt.title(\"Login pattern over time\", fontsize = 25)"
   ]
  },
  {
   "cell_type": "markdown",
   "metadata": {},
   "source": [
    "### Above plot clearly indicates that there is high activity over Fridays, Saturday and Sundays as compared to other days of week."
   ]
  },
  {
   "cell_type": "code",
   "execution_count": 141,
   "metadata": {},
   "outputs": [
    {
     "data": {
      "text/html": [
       "<div>\n",
       "<style scoped>\n",
       "    .dataframe tbody tr th:only-of-type {\n",
       "        vertical-align: middle;\n",
       "    }\n",
       "\n",
       "    .dataframe tbody tr th {\n",
       "        vertical-align: top;\n",
       "    }\n",
       "\n",
       "    .dataframe thead th {\n",
       "        text-align: right;\n",
       "    }\n",
       "</style>\n",
       "<table border=\"1\" class=\"dataframe\">\n",
       "  <thead>\n",
       "    <tr style=\"text-align: right;\">\n",
       "      <th></th>\n",
       "      <th>day</th>\n",
       "      <th>count</th>\n",
       "      <th>dayname</th>\n",
       "    </tr>\n",
       "  </thead>\n",
       "  <tbody>\n",
       "    <tr>\n",
       "      <th>0</th>\n",
       "      <td>0</td>\n",
       "      <td>8823</td>\n",
       "      <td>Mon</td>\n",
       "    </tr>\n",
       "    <tr>\n",
       "      <th>1</th>\n",
       "      <td>1</td>\n",
       "      <td>9268</td>\n",
       "      <td>Tues</td>\n",
       "    </tr>\n",
       "    <tr>\n",
       "      <th>2</th>\n",
       "      <td>2</td>\n",
       "      <td>10339</td>\n",
       "      <td>Wed</td>\n",
       "    </tr>\n",
       "    <tr>\n",
       "      <th>3</th>\n",
       "      <td>3</td>\n",
       "      <td>11960</td>\n",
       "      <td>Thurs</td>\n",
       "    </tr>\n",
       "    <tr>\n",
       "      <th>4</th>\n",
       "      <td>4</td>\n",
       "      <td>15208</td>\n",
       "      <td>Fri</td>\n",
       "    </tr>\n",
       "    <tr>\n",
       "      <th>5</th>\n",
       "      <td>5</td>\n",
       "      <td>19377</td>\n",
       "      <td>Sat</td>\n",
       "    </tr>\n",
       "    <tr>\n",
       "      <th>6</th>\n",
       "      <td>6</td>\n",
       "      <td>18167</td>\n",
       "      <td>Sun</td>\n",
       "    </tr>\n",
       "  </tbody>\n",
       "</table>\n",
       "</div>"
      ],
      "text/plain": [
       "   day  count dayname\n",
       "0    0   8823     Mon\n",
       "1    1   9268    Tues\n",
       "2    2  10339     Wed\n",
       "3    3  11960   Thurs\n",
       "4    4  15208     Fri\n",
       "5    5  19377     Sat\n",
       "6    6  18167     Sun"
      ]
     },
     "execution_count": 141,
     "metadata": {},
     "output_type": "execute_result"
    }
   ],
   "source": [
    "daycount = login[\"dayOfWeek\"].value_counts().sort_index().reset_index()\n",
    "daycount.columns=[\"day\",\"count\"]\n",
    "daycount[\"dayname\"] = ['Mon', 'Tues', 'Wed','Thurs','Fri', 'Sat', 'Sun']\n",
    "daycount"
   ]
  },
  {
   "cell_type": "code",
   "execution_count": 146,
   "metadata": {},
   "outputs": [
    {
     "data": {
      "image/png": "[encoded data removed]",
      "text/plain": [
       "<Figure size 1080x360 with 1 Axes>"
      ]
     },
     "metadata": {
      "needs_background": "light"
     },
     "output_type": "display_data"
    }
   ],
   "source": [
    "# plot day total logins\n",
    "plt.figure(figsize=(15,5))\n",
    "sns.barplot(x='dayname', y='count', data=daycount)\n",
    "plt.xlabel('Day of the Week', fontsize = 15)\n",
    "plt.title('Weekday Logins', fontsize = 15)\n",
    "plt.ylabel('Login Counts', fontsize = 15)\n",
    "plt.show()"
   ]
  },
  {
   "cell_type": "code",
   "execution_count": 108,
   "metadata": {},
   "outputs": [],
   "source": []
  },
  {
   "cell_type": "code",
   "execution_count": 122,
   "metadata": {},
   "outputs": [
    {
     "data": {
      "image/png": "[encoded data removed]",
      "text/plain": [
       "<Figure size 864x360 with 1 Axes>"
      ]
     },
     "metadata": {
      "needs_background": "light"
     },
     "output_type": "display_data"
    }
   ],
   "source": [
    "# hourly login pattern\n",
    "loginHour = pd.DataFrame(login[\"hour\"].value_counts().sort_index())\n",
    "\n",
    "# plot it\n",
    "plt.figure(figsize=(12,5))\n",
    "#plt.bar(loginHour.index,loginHour[\"hour\"],color=\"G\",width=0.3)\n",
    "sns.barplot(loginHour.index,loginHour[\"hour\"])\n",
    "plt.xlabel(\"Hour\", fontsize = 20)\n",
    "plt.ylabel(\"Logins Count\", fontsize = 20)\n",
    "plt.title(\"Login Count Hourly\", fontsize = 20)\n",
    "plt.show()"
   ]
  },
  {
   "cell_type": "markdown",
   "metadata": {},
   "source": [
    "### Most usage is from 9PM to 2AM. And very low usage between 6AM to 9AM. "
   ]
  },
  {
   "cell_type": "markdown",
   "metadata": {},
   "source": [
    "# Part 2 - Experiment and metrics design\n",
    "The neighboring cities of Gotham and Metropolis have complementary circadian rhythms: on weekdays, Ultimate Gotham is most active at night, and Ultimate Metropolis is most active during the day. On weekends, there is reasonable activity in both cities. However, a toll bridge, with a two­way toll, between the two cities causes driver partners to tend to be exclusive to each city. The Ultimate managers of city operations for the two cities have proposed an experiment to encourage driver partners to be available in both cities, by reimbursing all toll costs.\n",
    "\n",
    "1. What would you choose as the key measure of success of this experiment in encouraging driver partners to serve both cities, and why would you choose this metric?\n",
    "\n",
    "I would you choose profit as the key measure of success of this experiment in encouraging driver partners to serve both cities.\n",
    "Weekend engagement is better than primary weekday city engagement for Gotham and Metropolis drivers. There is a huge difference in peak times during the weekdays, so it is unlikely that any driver would take advantage of both cities as that would associate to working more than 12 hours a day. However, with weekends being active for both throughout the day, it is more reasonable to expect a driver to take customers back and forth with tolls not being an issue.\n",
    "I believe that creating these tolls roads will hopefully increase the awareness about the benefits of driver partners. The goal is to save time and increase productivity.\n",
    "\n",
    "2. Describe a practical experiment you would design to compare the effectiveness of the proposed change in relation to the key measure of success. Please provide details on:\n",
    "\n",
    "a. how you will implement the experiment\n",
    "b. what statistical test(s) you will conduct to verify the significance of the observation\n",
    "c. how you would interpret the results and provide recommendations to the city operations team along with any caveats.\n",
    "We can perform an A/B Test. The control group would be users that do not use the toll bridge. And the test group would be users that do use the toll bridge. We'll have to keep track of the revenue gained from both sides and compare it against each other within a few months. Or if you want a more accurate reading, we can collect the data within a year's time.\n",
    "a. I will conduct a t-test as statistical test, with a p-value of 0.5.\n",
    "\n",
    "b. There's three ways to interpret the results. One would be if there's no increase in profit. If this happens, then we'll need to conduct more studies and see what's causing the problem. If there is no increase in profit, then we'll have to wait it out and see what else can be done. If there is profit, then we can look at what factors contributed the most to an increase in profit and maybe optimize from there.\n",
    "\n",
    "c. In the end, it'll be hard to evaluate the performance of this experiment within a short period of time. This experiment will have to be monitored for a while and adjustments will have to be made yearly or periodically at the least."
   ]
  },
  {
   "cell_type": "markdown",
   "metadata": {},
   "source": [
    "# Part 3 - Predictive Modeling\n",
    "Ultimate is interested in predicting rider retention. To help explore this question, we have provided a sample dataset of a cohort of users who signed up for an Ultimate account in January 2014. The data was pulled several months later; we consider a user retained if they were “active” (i.e. took a trip) in the preceding 30 days.\n",
    "\n",
    "We would like you to use this data set to help understand what factors are the best predictors for retention, and offer suggestions to operationalize those insights to help Ultimate.\n",
    "\n",
    "The data is in the attached file ultimate_data_challenge.json. See below for a detailed description of the dataset. Please include any code you wrote for the analysis and delete the dataset when you have finished with the challenge.\n",
    "\n"
   ]
  },
  {
   "cell_type": "code",
   "execution_count": 126,
   "metadata": {},
   "outputs": [],
   "source": [
    "from sklearn.model_selection import train_test_split, GridSearchCV, cross_val_score\n",
    "from sklearn.ensemble import RandomForestClassifier, GradientBoostingClassifier\n",
    "from sklearn.neighbors import KNeighborsClassifier\n",
    "from sklearn.linear_model import LogisticRegression\n",
    "from sklearn.svm import SVC\n",
    "from sklearn import metrics\n",
    "from sklearn.metrics import accuracy_score, confusion_matrix,roc_curve, roc_auc_score\n",
    "\n",
    "from sklearn import preprocessing\n",
    "from sklearn.preprocessing import LabelEncoder, MinMaxScaler\n",
    "\n",
    "from collections import defaultdict\n"
   ]
  },
  {
   "cell_type": "code",
   "execution_count": null,
   "metadata": {},
   "outputs": [],
   "source": []
  },
  {
   "cell_type": "code",
   "execution_count": null,
   "metadata": {},
   "outputs": [],
   "source": []
  },
  {
   "cell_type": "code",
   "execution_count": 130,
   "metadata": {},
   "outputs": [
    {
     "name": "stdout",
     "output_type": "stream",
     "text": [
      "(50000, 12)\n"
     ]
    },
    {
     "data": {
      "text/html": [
       "<div>\n",
       "<style scoped>\n",
       "    .dataframe tbody tr th:only-of-type {\n",
       "        vertical-align: middle;\n",
       "    }\n",
       "\n",
       "    .dataframe tbody tr th {\n",
       "        vertical-align: top;\n",
       "    }\n",
       "\n",
       "    .dataframe thead th {\n",
       "        text-align: right;\n",
       "    }\n",
       "</style>\n",
       "<table border=\"1\" class=\"dataframe\">\n",
       "  <thead>\n",
       "    <tr style=\"text-align: right;\">\n",
       "      <th></th>\n",
       "      <th>avg_dist</th>\n",
       "      <th>avg_rating_by_driver</th>\n",
       "      <th>avg_rating_of_driver</th>\n",
       "      <th>avg_surge</th>\n",
       "      <th>city</th>\n",
       "      <th>last_trip_date</th>\n",
       "      <th>phone</th>\n",
       "      <th>signup_date</th>\n",
       "      <th>surge_pct</th>\n",
       "      <th>trips_in_first_30_days</th>\n",
       "      <th>ultimate_black_user</th>\n",
       "      <th>weekday_pct</th>\n",
       "    </tr>\n",
       "  </thead>\n",
       "  <tbody>\n",
       "    <tr>\n",
       "      <th>0</th>\n",
       "      <td>3.67</td>\n",
       "      <td>5.0</td>\n",
       "      <td>4.7</td>\n",
       "      <td>1.10</td>\n",
       "      <td>King's Landing</td>\n",
       "      <td>2014-06-17</td>\n",
       "      <td>iPhone</td>\n",
       "      <td>2014-01-25</td>\n",
       "      <td>15.4</td>\n",
       "      <td>4</td>\n",
       "      <td>True</td>\n",
       "      <td>46.2</td>\n",
       "    </tr>\n",
       "    <tr>\n",
       "      <th>1</th>\n",
       "      <td>8.26</td>\n",
       "      <td>5.0</td>\n",
       "      <td>5.0</td>\n",
       "      <td>1.00</td>\n",
       "      <td>Astapor</td>\n",
       "      <td>2014-05-05</td>\n",
       "      <td>Android</td>\n",
       "      <td>2014-01-29</td>\n",
       "      <td>0.0</td>\n",
       "      <td>0</td>\n",
       "      <td>False</td>\n",
       "      <td>50.0</td>\n",
       "    </tr>\n",
       "    <tr>\n",
       "      <th>2</th>\n",
       "      <td>0.77</td>\n",
       "      <td>5.0</td>\n",
       "      <td>4.3</td>\n",
       "      <td>1.00</td>\n",
       "      <td>Astapor</td>\n",
       "      <td>2014-01-07</td>\n",
       "      <td>iPhone</td>\n",
       "      <td>2014-01-06</td>\n",
       "      <td>0.0</td>\n",
       "      <td>3</td>\n",
       "      <td>False</td>\n",
       "      <td>100.0</td>\n",
       "    </tr>\n",
       "    <tr>\n",
       "      <th>3</th>\n",
       "      <td>2.36</td>\n",
       "      <td>4.9</td>\n",
       "      <td>4.6</td>\n",
       "      <td>1.14</td>\n",
       "      <td>King's Landing</td>\n",
       "      <td>2014-06-29</td>\n",
       "      <td>iPhone</td>\n",
       "      <td>2014-01-10</td>\n",
       "      <td>20.0</td>\n",
       "      <td>9</td>\n",
       "      <td>True</td>\n",
       "      <td>80.0</td>\n",
       "    </tr>\n",
       "    <tr>\n",
       "      <th>4</th>\n",
       "      <td>3.13</td>\n",
       "      <td>4.9</td>\n",
       "      <td>4.4</td>\n",
       "      <td>1.19</td>\n",
       "      <td>Winterfell</td>\n",
       "      <td>2014-03-15</td>\n",
       "      <td>Android</td>\n",
       "      <td>2014-01-27</td>\n",
       "      <td>11.8</td>\n",
       "      <td>14</td>\n",
       "      <td>False</td>\n",
       "      <td>82.4</td>\n",
       "    </tr>\n",
       "  </tbody>\n",
       "</table>\n",
       "</div>"
      ],
      "text/plain": [
       "   avg_dist  avg_rating_by_driver  avg_rating_of_driver  avg_surge  \\\n",
       "0      3.67                   5.0                   4.7       1.10   \n",
       "1      8.26                   5.0                   5.0       1.00   \n",
       "2      0.77                   5.0                   4.3       1.00   \n",
       "3      2.36                   4.9                   4.6       1.14   \n",
       "4      3.13                   4.9                   4.4       1.19   \n",
       "\n",
       "             city last_trip_date    phone signup_date  surge_pct  \\\n",
       "0  King's Landing     2014-06-17   iPhone  2014-01-25       15.4   \n",
       "1         Astapor     2014-05-05  Android  2014-01-29        0.0   \n",
       "2         Astapor     2014-01-07   iPhone  2014-01-06        0.0   \n",
       "3  King's Landing     2014-06-29   iPhone  2014-01-10       20.0   \n",
       "4      Winterfell     2014-03-15  Android  2014-01-27       11.8   \n",
       "\n",
       "   trips_in_first_30_days  ultimate_black_user  weekday_pct  \n",
       "0                       4                 True         46.2  \n",
       "1                       0                False         50.0  \n",
       "2                       3                False        100.0  \n",
       "3                       9                 True         80.0  \n",
       "4                      14                False         82.4  "
      ]
     },
     "execution_count": 130,
     "metadata": {},
     "output_type": "execute_result"
    }
   ],
   "source": [
    "#pd.read_json(\"ultimate_data_challenge.json\")\n",
    "with open(\"ultimate_data_challenge.json\") as f:\n",
    "    df = pd.DataFrame(json.load(f))\n",
    "    \n",
    "print(df.shape)\n",
    "df.head()"
   ]
  },
  {
   "cell_type": "code",
   "execution_count": 11,
   "metadata": {},
   "outputs": [
    {
     "data": {
      "text/plain": [
       "avg_dist                     0\n",
       "avg_rating_by_driver       201\n",
       "avg_rating_of_driver      8122\n",
       "avg_surge                    0\n",
       "city                         0\n",
       "last_trip_date               0\n",
       "phone                      396\n",
       "signup_date                  0\n",
       "surge_pct                    0\n",
       "trips_in_first_30_days       0\n",
       "ultimate_black_user          0\n",
       "weekday_pct                  0\n",
       "dtype: int64"
      ]
     },
     "execution_count": 11,
     "metadata": {},
     "output_type": "execute_result"
    }
   ],
   "source": [
    "df.isna().sum()"
   ]
  },
  {
   "cell_type": "code",
   "execution_count": 131,
   "metadata": {},
   "outputs": [],
   "source": [
    "# convert bool to int\n",
    "df[\"ultimate_black_user\"]  = df[\"ultimate_black_user\"].astype(\"int\")\n",
    "\n",
    "# convert dates to datetime\n",
    "df['last_trip_date'] = pd.to_datetime(df['last_trip_date'])\n",
    "df['signup_date'] = pd.to_datetime(df['signup_date'])\n"
   ]
  },
  {
   "cell_type": "code",
   "execution_count": 134,
   "metadata": {},
   "outputs": [],
   "source": [
    "df[\"last_trip_year\"] = [x.year for x in df['last_trip_date']]\n",
    "df[\"last_trip_mon\"] = [x.month for x in df['last_trip_date']]\n",
    "df[\"last_trip_day\"] = [x.day for x in df['last_trip_date']]\n",
    "df[\"signup_year\"] = [x.year for x in df['signup_date']]\n",
    "df[\"signup_month\"] = [x.month for x in df['signup_date']]\n",
    "df[\"signup_day\"] = [x.day for x in df['signup_date']]\n"
   ]
  },
  {
   "cell_type": "code",
   "execution_count": 135,
   "metadata": {},
   "outputs": [
    {
     "name": "stdout",
     "output_type": "stream",
     "text": [
      "2014-07-01 00:00:00  |  2014-06-01 00:00:00\n"
     ]
    }
   ],
   "source": [
    "# get last 30 day period\n",
    "maxDate = df['last_trip_date'].max()\n",
    "day30toMaxDate = maxDate - datetime.timedelta(days=30)\n",
    "print(maxDate,\" | \",day30toMaxDate)"
   ]
  },
  {
   "cell_type": "code",
   "execution_count": 136,
   "metadata": {},
   "outputs": [
    {
     "data": {
      "text/plain": [
       "0    31196\n",
       "1    18804\n",
       "Name: active, dtype: int64"
      ]
     },
     "execution_count": 136,
     "metadata": {},
     "output_type": "execute_result"
    }
   ],
   "source": [
    "# determine active status/users\n",
    "df[\"active\"] = (df['last_trip_date'] >= day30toMaxDate).astype('int')\n",
    "df[\"active\"].value_counts()"
   ]
  },
  {
   "cell_type": "code",
   "execution_count": 137,
   "metadata": {},
   "outputs": [
    {
     "data": {
      "text/html": [
       "<div>\n",
       "<style scoped>\n",
       "    .dataframe tbody tr th:only-of-type {\n",
       "        vertical-align: middle;\n",
       "    }\n",
       "\n",
       "    .dataframe tbody tr th {\n",
       "        vertical-align: top;\n",
       "    }\n",
       "\n",
       "    .dataframe thead th {\n",
       "        text-align: right;\n",
       "    }\n",
       "</style>\n",
       "<table border=\"1\" class=\"dataframe\">\n",
       "  <thead>\n",
       "    <tr style=\"text-align: right;\">\n",
       "      <th></th>\n",
       "      <th>avg_dist</th>\n",
       "      <th>avg_rating_by_driver</th>\n",
       "      <th>avg_rating_of_driver</th>\n",
       "      <th>avg_surge</th>\n",
       "      <th>city</th>\n",
       "      <th>last_trip_date</th>\n",
       "      <th>phone</th>\n",
       "      <th>signup_date</th>\n",
       "      <th>surge_pct</th>\n",
       "      <th>trips_in_first_30_days</th>\n",
       "      <th>ultimate_black_user</th>\n",
       "      <th>weekday_pct</th>\n",
       "      <th>last_trip_year</th>\n",
       "      <th>last_trip_mon</th>\n",
       "      <th>last_trip_day</th>\n",
       "      <th>signup_year</th>\n",
       "      <th>signup_month</th>\n",
       "      <th>signup_day</th>\n",
       "      <th>active</th>\n",
       "    </tr>\n",
       "  </thead>\n",
       "  <tbody>\n",
       "    <tr>\n",
       "      <th>0</th>\n",
       "      <td>3.67</td>\n",
       "      <td>5.0</td>\n",
       "      <td>4.7</td>\n",
       "      <td>1.10</td>\n",
       "      <td>King's Landing</td>\n",
       "      <td>2014-06-17</td>\n",
       "      <td>iPhone</td>\n",
       "      <td>2014-01-25</td>\n",
       "      <td>15.4</td>\n",
       "      <td>4</td>\n",
       "      <td>1</td>\n",
       "      <td>46.2</td>\n",
       "      <td>2014</td>\n",
       "      <td>6</td>\n",
       "      <td>17</td>\n",
       "      <td>2014</td>\n",
       "      <td>1</td>\n",
       "      <td>25</td>\n",
       "      <td>1</td>\n",
       "    </tr>\n",
       "    <tr>\n",
       "      <th>1</th>\n",
       "      <td>8.26</td>\n",
       "      <td>5.0</td>\n",
       "      <td>5.0</td>\n",
       "      <td>1.00</td>\n",
       "      <td>Astapor</td>\n",
       "      <td>2014-05-05</td>\n",
       "      <td>Android</td>\n",
       "      <td>2014-01-29</td>\n",
       "      <td>0.0</td>\n",
       "      <td>0</td>\n",
       "      <td>0</td>\n",
       "      <td>50.0</td>\n",
       "      <td>2014</td>\n",
       "      <td>5</td>\n",
       "      <td>5</td>\n",
       "      <td>2014</td>\n",
       "      <td>1</td>\n",
       "      <td>29</td>\n",
       "      <td>0</td>\n",
       "    </tr>\n",
       "    <tr>\n",
       "      <th>2</th>\n",
       "      <td>0.77</td>\n",
       "      <td>5.0</td>\n",
       "      <td>4.3</td>\n",
       "      <td>1.00</td>\n",
       "      <td>Astapor</td>\n",
       "      <td>2014-01-07</td>\n",
       "      <td>iPhone</td>\n",
       "      <td>2014-01-06</td>\n",
       "      <td>0.0</td>\n",
       "      <td>3</td>\n",
       "      <td>0</td>\n",
       "      <td>100.0</td>\n",
       "      <td>2014</td>\n",
       "      <td>1</td>\n",
       "      <td>7</td>\n",
       "      <td>2014</td>\n",
       "      <td>1</td>\n",
       "      <td>6</td>\n",
       "      <td>0</td>\n",
       "    </tr>\n",
       "    <tr>\n",
       "      <th>3</th>\n",
       "      <td>2.36</td>\n",
       "      <td>4.9</td>\n",
       "      <td>4.6</td>\n",
       "      <td>1.14</td>\n",
       "      <td>King's Landing</td>\n",
       "      <td>2014-06-29</td>\n",
       "      <td>iPhone</td>\n",
       "      <td>2014-01-10</td>\n",
       "      <td>20.0</td>\n",
       "      <td>9</td>\n",
       "      <td>1</td>\n",
       "      <td>80.0</td>\n",
       "      <td>2014</td>\n",
       "      <td>6</td>\n",
       "      <td>29</td>\n",
       "      <td>2014</td>\n",
       "      <td>1</td>\n",
       "      <td>10</td>\n",
       "      <td>1</td>\n",
       "    </tr>\n",
       "    <tr>\n",
       "      <th>4</th>\n",
       "      <td>3.13</td>\n",
       "      <td>4.9</td>\n",
       "      <td>4.4</td>\n",
       "      <td>1.19</td>\n",
       "      <td>Winterfell</td>\n",
       "      <td>2014-03-15</td>\n",
       "      <td>Android</td>\n",
       "      <td>2014-01-27</td>\n",
       "      <td>11.8</td>\n",
       "      <td>14</td>\n",
       "      <td>0</td>\n",
       "      <td>82.4</td>\n",
       "      <td>2014</td>\n",
       "      <td>3</td>\n",
       "      <td>15</td>\n",
       "      <td>2014</td>\n",
       "      <td>1</td>\n",
       "      <td>27</td>\n",
       "      <td>0</td>\n",
       "    </tr>\n",
       "  </tbody>\n",
       "</table>\n",
       "</div>"
      ],
      "text/plain": [
       "   avg_dist  avg_rating_by_driver  avg_rating_of_driver  avg_surge  \\\n",
       "0      3.67                   5.0                   4.7       1.10   \n",
       "1      8.26                   5.0                   5.0       1.00   \n",
       "2      0.77                   5.0                   4.3       1.00   \n",
       "3      2.36                   4.9                   4.6       1.14   \n",
       "4      3.13                   4.9                   4.4       1.19   \n",
       "\n",
       "             city last_trip_date    phone signup_date  surge_pct  \\\n",
       "0  King's Landing     2014-06-17   iPhone  2014-01-25       15.4   \n",
       "1         Astapor     2014-05-05  Android  2014-01-29        0.0   \n",
       "2         Astapor     2014-01-07   iPhone  2014-01-06        0.0   \n",
       "3  King's Landing     2014-06-29   iPhone  2014-01-10       20.0   \n",
       "4      Winterfell     2014-03-15  Android  2014-01-27       11.8   \n",
       "\n",
       "   trips_in_first_30_days  ultimate_black_user  weekday_pct  last_trip_year  \\\n",
       "0                       4                    1         46.2            2014   \n",
       "1                       0                    0         50.0            2014   \n",
       "2                       3                    0        100.0            2014   \n",
       "3                       9                    1         80.0            2014   \n",
       "4                      14                    0         82.4            2014   \n",
       "\n",
       "   last_trip_mon  last_trip_day  signup_year  signup_month  signup_day  active  \n",
       "0              6             17         2014             1          25       1  \n",
       "1              5              5         2014             1          29       0  \n",
       "2              1              7         2014             1           6       0  \n",
       "3              6             29         2014             1          10       1  \n",
       "4              3             15         2014             1          27       0  "
      ]
     },
     "execution_count": 137,
     "metadata": {},
     "output_type": "execute_result"
    }
   ],
   "source": [
    "df.head()"
   ]
  },
  {
   "cell_type": "code",
   "execution_count": null,
   "metadata": {
    "scrolled": true
   },
   "outputs": [],
   "source": []
  },
  {
   "cell_type": "code",
   "execution_count": null,
   "metadata": {},
   "outputs": [],
   "source": []
  },
  {
   "cell_type": "code",
   "execution_count": 138,
   "metadata": {},
   "outputs": [],
   "source": [
    "# Fixing null values\n",
    "df[\"avg_rating_of_driver\"].fillna(df[\"avg_rating_of_driver\"].mean(), inplace=True)\n",
    "df[\"avg_rating_by_driver\"].fillna(df[\"avg_rating_by_driver\"].mean(), inplace=True)\n",
    "df['phone'].fillna('NA',inplace=True)"
   ]
  },
  {
   "cell_type": "code",
   "execution_count": 139,
   "metadata": {},
   "outputs": [
    {
     "data": {
      "text/plain": [
       "avg_dist                  0\n",
       "avg_rating_by_driver      0\n",
       "avg_rating_of_driver      0\n",
       "avg_surge                 0\n",
       "city                      0\n",
       "last_trip_date            0\n",
       "phone                     0\n",
       "signup_date               0\n",
       "surge_pct                 0\n",
       "trips_in_first_30_days    0\n",
       "ultimate_black_user       0\n",
       "weekday_pct               0\n",
       "last_trip_year            0\n",
       "last_trip_mon             0\n",
       "last_trip_day             0\n",
       "signup_year               0\n",
       "signup_month              0\n",
       "signup_day                0\n",
       "active                    0\n",
       "dtype: int64"
      ]
     },
     "execution_count": 139,
     "metadata": {},
     "output_type": "execute_result"
    }
   ],
   "source": [
    "df.isna().sum()"
   ]
  },
  {
   "cell_type": "code",
   "execution_count": 140,
   "metadata": {},
   "outputs": [
    {
     "data": {
      "text/plain": [
       "<matplotlib.axes._subplots.AxesSubplot at 0x1b96ec5feb8>"
      ]
     },
     "execution_count": 140,
     "metadata": {},
     "output_type": "execute_result"
    },
    {
     "data": {
      "image/png": "[encoded data removed]",
      "text/plain": [
       "<Figure size 432x288 with 1 Axes>"
      ]
     },
     "metadata": {
      "needs_background": "light"
     },
     "output_type": "display_data"
    },
    {
     "data": {
      "image/png": "[encoded data removed]",
      "text/plain": [
       "<Figure size 432x288 with 1 Axes>"
      ]
     },
     "metadata": {
      "needs_background": "light"
     },
     "output_type": "display_data"
    }
   ],
   "source": [
    "# active users vs city/phone\n",
    "df.groupby(\"active\")[\"city\"].value_counts().unstack(0).plot(kind=\"barh\")\n",
    "df.groupby(\"active\")[\"phone\"].value_counts().unstack(0).plot(kind=\"barh\")\n"
   ]
  },
  {
   "cell_type": "code",
   "execution_count": 141,
   "metadata": {},
   "outputs": [
    {
     "data": {
      "text/plain": [
       "Index(['avg_dist', 'avg_rating_by_driver', 'avg_rating_of_driver', 'avg_surge',\n",
       "       'city', 'last_trip_date', 'phone', 'signup_date', 'surge_pct',\n",
       "       'trips_in_first_30_days', 'ultimate_black_user', 'weekday_pct',\n",
       "       'last_trip_year', 'last_trip_mon', 'last_trip_day', 'signup_year',\n",
       "       'signup_month', 'signup_day', 'active'],\n",
       "      dtype='object')"
      ]
     },
     "execution_count": 141,
     "metadata": {},
     "output_type": "execute_result"
    }
   ],
   "source": [
    "df.columns"
   ]
  },
  {
   "cell_type": "code",
   "execution_count": 142,
   "metadata": {},
   "outputs": [],
   "source": [
    "df.drop([\"last_trip_date\",\"signup_date\"],axis=1,inplace=True)"
   ]
  },
  {
   "cell_type": "code",
   "execution_count": 143,
   "metadata": {},
   "outputs": [
    {
     "data": {
      "text/html": [
       "<div>\n",
       "<style scoped>\n",
       "    .dataframe tbody tr th:only-of-type {\n",
       "        vertical-align: middle;\n",
       "    }\n",
       "\n",
       "    .dataframe tbody tr th {\n",
       "        vertical-align: top;\n",
       "    }\n",
       "\n",
       "    .dataframe thead th {\n",
       "        text-align: right;\n",
       "    }\n",
       "</style>\n",
       "<table border=\"1\" class=\"dataframe\">\n",
       "  <thead>\n",
       "    <tr style=\"text-align: right;\">\n",
       "      <th></th>\n",
       "      <th>avg_dist</th>\n",
       "      <th>avg_rating_by_driver</th>\n",
       "      <th>avg_rating_of_driver</th>\n",
       "      <th>avg_surge</th>\n",
       "      <th>city</th>\n",
       "      <th>phone</th>\n",
       "      <th>surge_pct</th>\n",
       "      <th>trips_in_first_30_days</th>\n",
       "      <th>ultimate_black_user</th>\n",
       "      <th>weekday_pct</th>\n",
       "      <th>last_trip_year</th>\n",
       "      <th>last_trip_mon</th>\n",
       "      <th>last_trip_day</th>\n",
       "      <th>signup_year</th>\n",
       "      <th>signup_month</th>\n",
       "      <th>signup_day</th>\n",
       "      <th>active</th>\n",
       "    </tr>\n",
       "  </thead>\n",
       "  <tbody>\n",
       "    <tr>\n",
       "      <th>0</th>\n",
       "      <td>3.67</td>\n",
       "      <td>5.0</td>\n",
       "      <td>4.7</td>\n",
       "      <td>1.10</td>\n",
       "      <td>King's Landing</td>\n",
       "      <td>iPhone</td>\n",
       "      <td>15.4</td>\n",
       "      <td>4</td>\n",
       "      <td>1</td>\n",
       "      <td>46.2</td>\n",
       "      <td>2014</td>\n",
       "      <td>6</td>\n",
       "      <td>17</td>\n",
       "      <td>2014</td>\n",
       "      <td>1</td>\n",
       "      <td>25</td>\n",
       "      <td>1</td>\n",
       "    </tr>\n",
       "    <tr>\n",
       "      <th>1</th>\n",
       "      <td>8.26</td>\n",
       "      <td>5.0</td>\n",
       "      <td>5.0</td>\n",
       "      <td>1.00</td>\n",
       "      <td>Astapor</td>\n",
       "      <td>Android</td>\n",
       "      <td>0.0</td>\n",
       "      <td>0</td>\n",
       "      <td>0</td>\n",
       "      <td>50.0</td>\n",
       "      <td>2014</td>\n",
       "      <td>5</td>\n",
       "      <td>5</td>\n",
       "      <td>2014</td>\n",
       "      <td>1</td>\n",
       "      <td>29</td>\n",
       "      <td>0</td>\n",
       "    </tr>\n",
       "    <tr>\n",
       "      <th>2</th>\n",
       "      <td>0.77</td>\n",
       "      <td>5.0</td>\n",
       "      <td>4.3</td>\n",
       "      <td>1.00</td>\n",
       "      <td>Astapor</td>\n",
       "      <td>iPhone</td>\n",
       "      <td>0.0</td>\n",
       "      <td>3</td>\n",
       "      <td>0</td>\n",
       "      <td>100.0</td>\n",
       "      <td>2014</td>\n",
       "      <td>1</td>\n",
       "      <td>7</td>\n",
       "      <td>2014</td>\n",
       "      <td>1</td>\n",
       "      <td>6</td>\n",
       "      <td>0</td>\n",
       "    </tr>\n",
       "    <tr>\n",
       "      <th>3</th>\n",
       "      <td>2.36</td>\n",
       "      <td>4.9</td>\n",
       "      <td>4.6</td>\n",
       "      <td>1.14</td>\n",
       "      <td>King's Landing</td>\n",
       "      <td>iPhone</td>\n",
       "      <td>20.0</td>\n",
       "      <td>9</td>\n",
       "      <td>1</td>\n",
       "      <td>80.0</td>\n",
       "      <td>2014</td>\n",
       "      <td>6</td>\n",
       "      <td>29</td>\n",
       "      <td>2014</td>\n",
       "      <td>1</td>\n",
       "      <td>10</td>\n",
       "      <td>1</td>\n",
       "    </tr>\n",
       "    <tr>\n",
       "      <th>4</th>\n",
       "      <td>3.13</td>\n",
       "      <td>4.9</td>\n",
       "      <td>4.4</td>\n",
       "      <td>1.19</td>\n",
       "      <td>Winterfell</td>\n",
       "      <td>Android</td>\n",
       "      <td>11.8</td>\n",
       "      <td>14</td>\n",
       "      <td>0</td>\n",
       "      <td>82.4</td>\n",
       "      <td>2014</td>\n",
       "      <td>3</td>\n",
       "      <td>15</td>\n",
       "      <td>2014</td>\n",
       "      <td>1</td>\n",
       "      <td>27</td>\n",
       "      <td>0</td>\n",
       "    </tr>\n",
       "  </tbody>\n",
       "</table>\n",
       "</div>"
      ],
      "text/plain": [
       "   avg_dist  avg_rating_by_driver  avg_rating_of_driver  avg_surge  \\\n",
       "0      3.67                   5.0                   4.7       1.10   \n",
       "1      8.26                   5.0                   5.0       1.00   \n",
       "2      0.77                   5.0                   4.3       1.00   \n",
       "3      2.36                   4.9                   4.6       1.14   \n",
       "4      3.13                   4.9                   4.4       1.19   \n",
       "\n",
       "             city    phone  surge_pct  trips_in_first_30_days  \\\n",
       "0  King's Landing   iPhone       15.4                       4   \n",
       "1         Astapor  Android        0.0                       0   \n",
       "2         Astapor   iPhone        0.0                       3   \n",
       "3  King's Landing   iPhone       20.0                       9   \n",
       "4      Winterfell  Android       11.8                      14   \n",
       "\n",
       "   ultimate_black_user  weekday_pct  last_trip_year  last_trip_mon  \\\n",
       "0                    1         46.2            2014              6   \n",
       "1                    0         50.0            2014              5   \n",
       "2                    0        100.0            2014              1   \n",
       "3                    1         80.0            2014              6   \n",
       "4                    0         82.4            2014              3   \n",
       "\n",
       "   last_trip_day  signup_year  signup_month  signup_day  active  \n",
       "0             17         2014             1          25       1  \n",
       "1              5         2014             1          29       0  \n",
       "2              7         2014             1           6       0  \n",
       "3             29         2014             1          10       1  \n",
       "4             15         2014             1          27       0  "
      ]
     },
     "execution_count": 143,
     "metadata": {},
     "output_type": "execute_result"
    }
   ],
   "source": [
    "df.head()"
   ]
  },
  {
   "cell_type": "markdown",
   "metadata": {},
   "source": [
    "### Split, Label encoding and Scaling"
   ]
  },
  {
   "cell_type": "code",
   "execution_count": 145,
   "metadata": {},
   "outputs": [],
   "source": [
    "#df_bkp = df.copy()\n",
    "#df = df_bkp.copy()"
   ]
  },
  {
   "cell_type": "code",
   "execution_count": 146,
   "metadata": {},
   "outputs": [
    {
     "data": {
      "text/plain": [
       "Index(['avg_dist', 'avg_rating_by_driver', 'avg_rating_of_driver', 'avg_surge',\n",
       "       'city', 'phone', 'surge_pct', 'trips_in_first_30_days',\n",
       "       'ultimate_black_user', 'weekday_pct', 'last_trip_year', 'last_trip_mon',\n",
       "       'last_trip_day', 'signup_year', 'signup_month', 'signup_day', 'active'],\n",
       "      dtype='object')"
      ]
     },
     "execution_count": 146,
     "metadata": {},
     "output_type": "execute_result"
    }
   ],
   "source": [
    "df.columns"
   ]
  },
  {
   "cell_type": "code",
   "execution_count": 147,
   "metadata": {},
   "outputs": [
    {
     "name": "stdout",
     "output_type": "stream",
     "text": [
      "(50000, 16)\n",
      "(50000,)\n"
     ]
    }
   ],
   "source": [
    "x = df.drop(\"active\",axis=1)\n",
    "print(x.shape)\n",
    "y = df[\"active\"]\n",
    "print(y.shape)"
   ]
  },
  {
   "cell_type": "code",
   "execution_count": 148,
   "metadata": {},
   "outputs": [
    {
     "name": "stdout",
     "output_type": "stream",
     "text": [
      "<class 'pandas.core.frame.DataFrame'>\n",
      "RangeIndex: 50000 entries, 0 to 49999\n",
      "Data columns (total 16 columns):\n",
      "avg_dist                  50000 non-null float64\n",
      "avg_rating_by_driver      50000 non-null float64\n",
      "avg_rating_of_driver      50000 non-null float64\n",
      "avg_surge                 50000 non-null float64\n",
      "city                      50000 non-null object\n",
      "phone                     50000 non-null object\n",
      "surge_pct                 50000 non-null float64\n",
      "trips_in_first_30_days    50000 non-null int64\n",
      "ultimate_black_user       50000 non-null int32\n",
      "weekday_pct               50000 non-null float64\n",
      "last_trip_year            50000 non-null int64\n",
      "last_trip_mon             50000 non-null int64\n",
      "last_trip_day             50000 non-null int64\n",
      "signup_year               50000 non-null int64\n",
      "signup_month              50000 non-null int64\n",
      "signup_day                50000 non-null int64\n",
      "dtypes: float64(6), int32(1), int64(7), object(2)\n",
      "memory usage: 5.9+ MB\n"
     ]
    }
   ],
   "source": [
    "x.info()"
   ]
  },
  {
   "cell_type": "code",
   "execution_count": 149,
   "metadata": {},
   "outputs": [],
   "source": [
    "# select categorical columns so we can encode them. WIll merge them later on\n",
    "#x.loc[:,x.dtypes == np.object]\n",
    "catColumns = x.select_dtypes(object).columns.to_list()\n",
    "\n",
    "# define label encoder & default dict(to reverse encode)\n",
    "d = defaultdict(LabelEncoder)\n",
    "\n",
    "# encode dataset\n",
    "x[catColumns] = x[catColumns].apply(lambda x: d[x.name].fit_transform(x) )\n",
    "\n",
    "# inverse the encode\n",
    "#fit.apply(lambda x: d[x.name].inverse_transform(x) )\n",
    "# using the dict to label future data\n",
    "#df.apply(lambda x: d[x.name].transform(x) )\n"
   ]
  },
  {
   "cell_type": "code",
   "execution_count": 151,
   "metadata": {},
   "outputs": [],
   "source": [
    "# -----------------------------\n",
    "# min-max scaler\n",
    "cols = x.columns.to_list()\n",
    "scaler = MinMaxScaler()\n",
    "scaler.fit(x)\n",
    "x = pd.DataFrame(scaler.transform(x),columns=cols)"
   ]
  },
  {
   "cell_type": "code",
   "execution_count": 153,
   "metadata": {},
   "outputs": [
    {
     "data": {
      "text/html": [
       "<div>\n",
       "<style scoped>\n",
       "    .dataframe tbody tr th:only-of-type {\n",
       "        vertical-align: middle;\n",
       "    }\n",
       "\n",
       "    .dataframe tbody tr th {\n",
       "        vertical-align: top;\n",
       "    }\n",
       "\n",
       "    .dataframe thead th {\n",
       "        text-align: right;\n",
       "    }\n",
       "</style>\n",
       "<table border=\"1\" class=\"dataframe\">\n",
       "  <thead>\n",
       "    <tr style=\"text-align: right;\">\n",
       "      <th></th>\n",
       "      <th>avg_dist</th>\n",
       "      <th>avg_rating_by_driver</th>\n",
       "      <th>avg_rating_of_driver</th>\n",
       "      <th>avg_surge</th>\n",
       "      <th>city</th>\n",
       "      <th>phone</th>\n",
       "      <th>surge_pct</th>\n",
       "      <th>trips_in_first_30_days</th>\n",
       "      <th>ultimate_black_user</th>\n",
       "      <th>weekday_pct</th>\n",
       "      <th>last_trip_year</th>\n",
       "      <th>last_trip_mon</th>\n",
       "      <th>last_trip_day</th>\n",
       "      <th>signup_year</th>\n",
       "      <th>signup_month</th>\n",
       "      <th>signup_day</th>\n",
       "    </tr>\n",
       "  </thead>\n",
       "  <tbody>\n",
       "    <tr>\n",
       "      <th>0</th>\n",
       "      <td>0.022801</td>\n",
       "      <td>1.000</td>\n",
       "      <td>0.925</td>\n",
       "      <td>0.014286</td>\n",
       "      <td>0.5</td>\n",
       "      <td>1.0</td>\n",
       "      <td>0.154</td>\n",
       "      <td>0.032</td>\n",
       "      <td>1.0</td>\n",
       "      <td>0.462</td>\n",
       "      <td>0.0</td>\n",
       "      <td>0.833333</td>\n",
       "      <td>0.533333</td>\n",
       "      <td>0.0</td>\n",
       "      <td>0.0</td>\n",
       "      <td>0.800000</td>\n",
       "    </tr>\n",
       "    <tr>\n",
       "      <th>1</th>\n",
       "      <td>0.051317</td>\n",
       "      <td>1.000</td>\n",
       "      <td>1.000</td>\n",
       "      <td>0.000000</td>\n",
       "      <td>0.0</td>\n",
       "      <td>0.0</td>\n",
       "      <td>0.000</td>\n",
       "      <td>0.000</td>\n",
       "      <td>0.0</td>\n",
       "      <td>0.500</td>\n",
       "      <td>0.0</td>\n",
       "      <td>0.666667</td>\n",
       "      <td>0.133333</td>\n",
       "      <td>0.0</td>\n",
       "      <td>0.0</td>\n",
       "      <td>0.933333</td>\n",
       "    </tr>\n",
       "    <tr>\n",
       "      <th>2</th>\n",
       "      <td>0.004784</td>\n",
       "      <td>1.000</td>\n",
       "      <td>0.825</td>\n",
       "      <td>0.000000</td>\n",
       "      <td>0.0</td>\n",
       "      <td>1.0</td>\n",
       "      <td>0.000</td>\n",
       "      <td>0.024</td>\n",
       "      <td>0.0</td>\n",
       "      <td>1.000</td>\n",
       "      <td>0.0</td>\n",
       "      <td>0.000000</td>\n",
       "      <td>0.200000</td>\n",
       "      <td>0.0</td>\n",
       "      <td>0.0</td>\n",
       "      <td>0.166667</td>\n",
       "    </tr>\n",
       "    <tr>\n",
       "      <th>3</th>\n",
       "      <td>0.014662</td>\n",
       "      <td>0.975</td>\n",
       "      <td>0.900</td>\n",
       "      <td>0.020000</td>\n",
       "      <td>0.5</td>\n",
       "      <td>1.0</td>\n",
       "      <td>0.200</td>\n",
       "      <td>0.072</td>\n",
       "      <td>1.0</td>\n",
       "      <td>0.800</td>\n",
       "      <td>0.0</td>\n",
       "      <td>0.833333</td>\n",
       "      <td>0.933333</td>\n",
       "      <td>0.0</td>\n",
       "      <td>0.0</td>\n",
       "      <td>0.300000</td>\n",
       "    </tr>\n",
       "    <tr>\n",
       "      <th>4</th>\n",
       "      <td>0.019446</td>\n",
       "      <td>0.975</td>\n",
       "      <td>0.850</td>\n",
       "      <td>0.027143</td>\n",
       "      <td>1.0</td>\n",
       "      <td>0.0</td>\n",
       "      <td>0.118</td>\n",
       "      <td>0.112</td>\n",
       "      <td>0.0</td>\n",
       "      <td>0.824</td>\n",
       "      <td>0.0</td>\n",
       "      <td>0.333333</td>\n",
       "      <td>0.466667</td>\n",
       "      <td>0.0</td>\n",
       "      <td>0.0</td>\n",
       "      <td>0.866667</td>\n",
       "    </tr>\n",
       "  </tbody>\n",
       "</table>\n",
       "</div>"
      ],
      "text/plain": [
       "   avg_dist  avg_rating_by_driver  avg_rating_of_driver  avg_surge  city  \\\n",
       "0  0.022801                 1.000                 0.925   0.014286   0.5   \n",
       "1  0.051317                 1.000                 1.000   0.000000   0.0   \n",
       "2  0.004784                 1.000                 0.825   0.000000   0.0   \n",
       "3  0.014662                 0.975                 0.900   0.020000   0.5   \n",
       "4  0.019446                 0.975                 0.850   0.027143   1.0   \n",
       "\n",
       "   phone  surge_pct  trips_in_first_30_days  ultimate_black_user  weekday_pct  \\\n",
       "0    1.0      0.154                   0.032                  1.0        0.462   \n",
       "1    0.0      0.000                   0.000                  0.0        0.500   \n",
       "2    1.0      0.000                   0.024                  0.0        1.000   \n",
       "3    1.0      0.200                   0.072                  1.0        0.800   \n",
       "4    0.0      0.118                   0.112                  0.0        0.824   \n",
       "\n",
       "   last_trip_year  last_trip_mon  last_trip_day  signup_year  signup_month  \\\n",
       "0             0.0       0.833333       0.533333          0.0           0.0   \n",
       "1             0.0       0.666667       0.133333          0.0           0.0   \n",
       "2             0.0       0.000000       0.200000          0.0           0.0   \n",
       "3             0.0       0.833333       0.933333          0.0           0.0   \n",
       "4             0.0       0.333333       0.466667          0.0           0.0   \n",
       "\n",
       "   signup_day  \n",
       "0    0.800000  \n",
       "1    0.933333  \n",
       "2    0.166667  \n",
       "3    0.300000  \n",
       "4    0.866667  "
      ]
     },
     "execution_count": 153,
     "metadata": {},
     "output_type": "execute_result"
    }
   ],
   "source": [
    "x.head()"
   ]
  },
  {
   "cell_type": "code",
   "execution_count": 154,
   "metadata": {},
   "outputs": [],
   "source": [
    "#create the train/test split\n",
    "X_train, X_test, y_train, y_test = train_test_split(x, y, test_size=0.3, random_state=13)\n"
   ]
  },
  {
   "cell_type": "code",
   "execution_count": null,
   "metadata": {},
   "outputs": [],
   "source": []
  },
  {
   "cell_type": "code",
   "execution_count": 160,
   "metadata": {},
   "outputs": [],
   "source": [
    "# dataFrame to capture results of all classifiers\n",
    "results = pd.DataFrame(columns=['classifiers', 'fpr','tpr','auc'])\n"
   ]
  },
  {
   "cell_type": "markdown",
   "metadata": {},
   "source": [
    "## Random Forest"
   ]
  },
  {
   "cell_type": "code",
   "execution_count": 155,
   "metadata": {},
   "outputs": [
    {
     "name": "stdout",
     "output_type": "stream",
     "text": [
      "riterion :  gini\n",
      "ax_features :  sqrt\n",
      "in_samples_leaf :  1\n",
      "_estimators :  10\n",
      "\u001b[1m\u001b[94mBest 10-folds CV f1-score: 100.00%.\n"
     ]
    }
   ],
   "source": [
    "#Create the model and check for best hyper-param\n",
    "\n",
    "m = RandomForestClassifier(n_estimators=500, class_weight=\"balanced\",random_state=13)\n",
    "\n",
    "hyperparam_grid = {\n",
    "    \"n_estimators\": [10, 50, 100, 500],\n",
    "    \"max_features\": [\"sqrt\", \"log2\", 0.4, 0.5],\n",
    "    \"min_samples_leaf\": [1, 3, 5],\n",
    "    \"criterion\": [\"gini\", \"entropy\"]}\n",
    "\n",
    "grid = GridSearchCV(m, hyperparam_grid, scoring=\"f1\", cv=10, n_jobs=-1)\n",
    "\n",
    "grid.fit(x, y)\n",
    "\n",
    "#print(\"\\033[1m\" + \"\\033[0m\" + \"The best hyperparameters for {} data:\".format(method))\n",
    "for hyperparam in grid.best_params_.keys():\n",
    "    print(hyperparam[hyperparam.find(\"__\") + 2:], \": \", grid.best_params_[hyperparam])\n",
    "\n",
    "print(\"\\033[1m\" + \"\\033[94m\" + \"Best 10-folds CV f1-score: {:.2f}%.\".format((grid.best_score_) * 100))\n"
   ]
  },
  {
   "cell_type": "code",
   "execution_count": 161,
   "metadata": {},
   "outputs": [
    {
     "name": "stdout",
     "output_type": "stream",
     "text": [
      "RandomForestClassifier(bootstrap=True, ccp_alpha=0.0, class_weight='balanced',\n",
      "                       criterion='gini', max_depth=None, max_features='sqrt',\n",
      "                       max_leaf_nodes=None, max_samples=None,\n",
      "                       min_impurity_decrease=0.0, min_impurity_split=None,\n",
      "                       min_samples_leaf=1, min_samples_split=2,\n",
      "                       min_weight_fraction_leaf=0.0, n_estimators=10,\n",
      "                       n_jobs=None, oob_score=False, random_state=13, verbose=0,\n",
      "                       warm_start=False)\n",
      "Accuracy Score: 1.0\n",
      "Confusion Matrix: \n",
      "[[9391    0]\n",
      " [   0 5609]]\n"
     ]
    }
   ],
   "source": [
    "rf = RandomForestClassifier(n_estimators=10, class_weight=\"balanced\",random_state=13,\n",
    "                          criterion='gini',max_features=\"sqrt\",min_samples_leaf=1)\n",
    "\n",
    "#m = RandomForestClassifier()\n",
    "print(rf.fit(X_train,y_train))\n",
    "\n",
    "#predict the results for test\n",
    "test_pred = rf.predict(X_test)\n",
    "#test the accuracy\n",
    "print(f'Accuracy Score: {accuracy_score(y_test, test_pred)}')\n",
    "print(f'Confusion Matrix: \\n{confusion_matrix(y_test, test_pred)}')\n",
    "\n",
    "# capture preduction stats\n",
    "yproba = rf.predict_proba(X_test)[:,1]\n",
    "fpr, tpr, _ = roc_curve(y_test, yproba)\n",
    "auc = roc_auc_score(y_test, yproba)\n",
    "results = results.append({'classifiers':'Random Forest', 'fpr':fpr, 'tpr':tpr, 'auc':auc}, ignore_index=True)\n"
   ]
  },
  {
   "cell_type": "code",
   "execution_count": null,
   "metadata": {},
   "outputs": [],
   "source": []
  },
  {
   "cell_type": "markdown",
   "metadata": {},
   "source": [
    "## Gradient Boosting"
   ]
  },
  {
   "cell_type": "code",
   "execution_count": 156,
   "metadata": {},
   "outputs": [
    {
     "name": "stdout",
     "output_type": "stream",
     "text": [
      "earning_rate :  0.001\n",
      "ax_depth :  2\n",
      "ax_features :  0.5\n",
      "_estimators :  500\n",
      "\u001b[1m\u001b[94mBest 10-folds CV f1-score: 100.00%.\n"
     ]
    }
   ],
   "source": [
    "# Gradient Boosting classifier\n",
    "gb = GradientBoostingClassifier(loss=\"deviance\", random_state=123)\n",
    "hyperparam_grid = {\"max_features\": [\"log2\", 0.5],\n",
    "                   \"n_estimators\": [100, 300, 500],\n",
    "                   \"learning_rate\": [0.001, 0.01, 0.1],\n",
    "                   \"max_depth\": [1, 2, 3]}\n",
    "\n",
    "grid = GridSearchCV(gb, param_grid=hyperparam_grid, scoring=\"f1\", cv=10, n_jobs=-1)\n",
    "#print(grid)\n",
    "grid.fit(x,y)\n",
    "#print(f\"\\033[1m\\033[0mThe best hyperparameters:\\n{'-' * 25}\")\n",
    "for hyperparam in grid.best_params_.keys():\n",
    "    print(hyperparam[hyperparam.find(\"__\") + 2:], \": \", grid.best_params_[hyperparam])\n",
    "print(f\"\\033[1m\\033[94mBest 10-folds CV f1-score: {grid.best_score_ * 100:.2f}%.\")\n"
   ]
  },
  {
   "cell_type": "code",
   "execution_count": 162,
   "metadata": {},
   "outputs": [
    {
     "name": "stdout",
     "output_type": "stream",
     "text": [
      "GradientBoostingClassifier(ccp_alpha=0.0, criterion='friedman_mse', init=None,\n",
      "                           learning_rate=0.001, loss='deviance', max_depth=2,\n",
      "                           max_features=0.5, max_leaf_nodes=None,\n",
      "                           min_impurity_decrease=0.0, min_impurity_split=None,\n",
      "                           min_samples_leaf=1, min_samples_split=2,\n",
      "                           min_weight_fraction_leaf=0.0, n_estimators=500,\n",
      "                           n_iter_no_change=None, presort='deprecated',\n",
      "                           random_state=123, subsample=1.0, tol=0.0001,\n",
      "                           validation_fraction=0.1, verbose=0,\n",
      "                           warm_start=False)\n",
      "Accuracy Score: 1.0\n",
      "Confusion Matrix: \n",
      "[[9391    0]\n",
      " [   0 5609]]\n"
     ]
    }
   ],
   "source": [
    "gb = GradientBoostingClassifier(loss=\"deviance\", random_state=123,\n",
    "                               learning_rate=0.001,max_depth=2,max_features=0.5,n_estimators=500)\n",
    "\n",
    "print(gb.fit(X_train,y_train))\n",
    "\n",
    "#predict the results for test\n",
    "test_pred = gb.predict(X_test)\n",
    "#test the accuracy\n",
    "print(f'Accuracy Score: {accuracy_score(y_test, test_pred)}')\n",
    "print(f'Confusion Matrix: \\n{confusion_matrix(y_test, test_pred)}')\n",
    "\n",
    "# capture preduction stats\n",
    "yproba = gb.predict_proba(X_test)[:,1]\n",
    "fpr, tpr, _ = roc_curve(y_test, yproba)\n",
    "auc = roc_auc_score(y_test, yproba)\n",
    "results = results.append({'classifiers':'Gradient Boosting', 'fpr':fpr, 'tpr':tpr, 'auc':auc}, ignore_index=True)\n"
   ]
  },
  {
   "cell_type": "code",
   "execution_count": null,
   "metadata": {},
   "outputs": [],
   "source": []
  },
  {
   "cell_type": "markdown",
   "metadata": {},
   "source": [
    "## K-Nearest Neighbors"
   ]
  },
  {
   "cell_type": "code",
   "execution_count": 157,
   "metadata": {},
   "outputs": [
    {
     "name": "stdout",
     "output_type": "stream",
     "text": [
      "\u001b[1m\u001b[0mThe best hyperparameters:\n",
      "-------------------------\n",
      "_neighbors :  4\n",
      "eights :  distance\n",
      "\u001b[1m\u001b[94mBest 10-folds CV f1-score: 96.76%.\n"
     ]
    }
   ],
   "source": [
    "# KNN classifier\n",
    "knn = KNeighborsClassifier()\n",
    "hyperparam_range = range(1, 20)\n",
    "grid = GridSearchCV(knn, param_grid={\"n_neighbors\": hyperparam_range,\n",
    "                                  \"weights\": [\"uniform\", \"distance\"]},\n",
    "                      scoring=\"f1\", cv=10, n_jobs=-1 )\n",
    "grid.fit(X_train, y_train)\n",
    "print(f\"\\033[1m\\033[0mThe best hyperparameters:\\n{'-' * 25}\")\n",
    "for hyperparam in grid.best_params_.keys():\n",
    "    print(hyperparam[hyperparam.find(\"__\") + 2:], \": \", grid.best_params_[hyperparam])\n",
    "print(\"\\033[1m\" + \"\\033[94m\" + \"Best 10-folds CV f1-score: {:.2f}%.\".format((grid.best_score_) * 100))\n"
   ]
  },
  {
   "cell_type": "code",
   "execution_count": 163,
   "metadata": {},
   "outputs": [
    {
     "name": "stdout",
     "output_type": "stream",
     "text": [
      "KNeighborsClassifier(algorithm='auto', leaf_size=30, metric='minkowski',\n",
      "                     metric_params=None, n_jobs=None, n_neighbors=4, p=2,\n",
      "                     weights='distance')\n",
      "Accuracy Score: 0.9786\n",
      "Confusion Matrix: \n",
      "[[9164  227]\n",
      " [  94 5515]]\n"
     ]
    }
   ],
   "source": [
    "knn = KNeighborsClassifier(n_neighbors=4, weights='distance')\n",
    "\n",
    "print(knn.fit(X_train,y_train))\n",
    "\n",
    "#predict the results for test\n",
    "test_pred = knn.predict(X_test)\n",
    "#test the accuracy\n",
    "print(f'Accuracy Score: {accuracy_score(y_test, test_pred)}')\n",
    "print(f'Confusion Matrix: \\n{confusion_matrix(y_test, test_pred)}')\n",
    "\n",
    "# capture preduction stats\n",
    "yproba = knn.predict_proba(X_test)[:,1]\n",
    "fpr, tpr, _ = roc_curve(y_test, yproba)\n",
    "auc = roc_auc_score(y_test, yproba)\n",
    "results = results.append({'classifiers':'K Neighbors', 'fpr':fpr, 'tpr':tpr, 'auc':auc}, ignore_index=True)\n"
   ]
  },
  {
   "cell_type": "code",
   "execution_count": null,
   "metadata": {},
   "outputs": [],
   "source": []
  },
  {
   "cell_type": "markdown",
   "metadata": {},
   "source": [
    "## Logistic Regression"
   ]
  },
  {
   "cell_type": "code",
   "execution_count": 158,
   "metadata": {},
   "outputs": [
    {
     "name": "stdout",
     "output_type": "stream",
     "text": [
      "\u001b[1m\u001b[0mThe best hyperparameters:\n",
      "-------------------------\n",
      " :  0.5\n",
      "it_intercept :  True\n",
      "enalty :  l2\n",
      "\u001b[1m\u001b[94mBest 10-folds CV f1-score: 100.00%.\n"
     ]
    }
   ],
   "source": [
    "# logistic model classifier\n",
    "lg = LogisticRegression(class_weight=\"balanced\")\n",
    "hyperparam_range = np.arange(0.5, 20.1, 0.5)\n",
    "hyperparam_grid = {\"penalty\": [\"l1\", \"l2\"],\n",
    "                   \"C\":  hyperparam_range,\n",
    "                   \"fit_intercept\": [True, False] }\n",
    "grid = GridSearchCV(lg,hyperparam_grid,scoring=\"accuracy\", cv=2, n_jobs=-1)\n",
    "\n",
    "grid.fit(x,y)\n",
    "\n",
    "print(f\"\\033[1m\\033[0mThe best hyperparameters:\\n{'-' * 25}\")\n",
    "for hyperparam in grid.best_params_.keys():\n",
    "    print(hyperparam[hyperparam.find(\"__\") + 2:], \": \", grid.best_params_[hyperparam])\n",
    "print(f\"\\033[1m\\033[94mBest 10-folds CV f1-score: {grid.best_score_ * 100:.2f}%.\")\n"
   ]
  },
  {
   "cell_type": "code",
   "execution_count": 164,
   "metadata": {},
   "outputs": [
    {
     "name": "stdout",
     "output_type": "stream",
     "text": [
      "LogisticRegression(C=0.5, class_weight='balanced', dual=False,\n",
      "                   fit_intercept=True, intercept_scaling=1, l1_ratio=None,\n",
      "                   max_iter=100, multi_class='auto', n_jobs=None, penalty='l2',\n",
      "                   random_state=None, solver='lbfgs', tol=0.0001, verbose=0,\n",
      "                   warm_start=False)\n",
      "Accuracy Score: 1.0\n",
      "Confusion Matrix: \n",
      "[[9391    0]\n",
      " [   0 5609]]\n"
     ]
    }
   ],
   "source": [
    "lg = LogisticRegression(class_weight=\"balanced\",C=0.5,penalty=\"l2\",fit_intercept=True)\n",
    "\n",
    "print(lg.fit(X_train,y_train))\n",
    "\n",
    "#predict the results for test\n",
    "test_pred = lg.predict(X_test)\n",
    "#test the accuracy\n",
    "print(f'Accuracy Score: {accuracy_score(y_test, test_pred)}')\n",
    "print(f'Confusion Matrix: \\n{confusion_matrix(y_test, test_pred)}')\n",
    "\n",
    "# capture preduction stats\n",
    "yproba = lg.predict_proba(X_test)[:,1]\n",
    "fpr, tpr, _ = roc_curve(y_test, yproba)\n",
    "auc = roc_auc_score(y_test, yproba)\n",
    "results = results.append({'classifiers':'Logistic Regression', 'fpr':fpr, 'tpr':tpr, 'auc':auc}, ignore_index=True)\n"
   ]
  },
  {
   "cell_type": "code",
   "execution_count": null,
   "metadata": {},
   "outputs": [],
   "source": []
  },
  {
   "cell_type": "markdown",
   "metadata": {},
   "source": [
    "## Support Vector Machine (SVM)"
   ]
  },
  {
   "cell_type": "code",
   "execution_count": 159,
   "metadata": {},
   "outputs": [
    {
     "name": "stdout",
     "output_type": "stream",
     "text": [
      "\u001b[1m\u001b[94mThe 10-folds CV f1-score is: 100.00%\n"
     ]
    }
   ],
   "source": [
    "# SVM classifier\n",
    "svm = SVC(C=0.01,gamma=0.1, kernel=\"poly\",degree=5, coef0=10,probability=True)\n",
    "svm.fit(X_train, y_train)\n",
    "svm_scores = cross_val_score(svm, X=x, y=y, scoring=\"f1\", cv=10, n_jobs=-1)\n",
    "\n",
    "# Print CV\n",
    "print(f\"\\033[1m\\033[94mThe 10-folds CV f1-score is: {np.mean(svm_scores) * 100:.2f}%\")\n"
   ]
  },
  {
   "cell_type": "code",
   "execution_count": 165,
   "metadata": {},
   "outputs": [
    {
     "name": "stdout",
     "output_type": "stream",
     "text": [
      "SVC(C=0.01, break_ties=False, cache_size=200, class_weight=None, coef0=10,\n",
      "    decision_function_shape='ovr', degree=5, gamma=0.1, kernel='poly',\n",
      "    max_iter=-1, probability=True, random_state=None, shrinking=True, tol=0.001,\n",
      "    verbose=False)\n",
      "Accuracy Score: 1.0\n",
      "Confusion Matrix: \n",
      "[[9391    0]\n",
      " [   0 5609]]\n"
     ]
    }
   ],
   "source": [
    "svc = SVC(C=0.01,gamma=0.1, kernel=\"poly\",degree=5, coef0=10,probability=True)\n",
    "\n",
    "print(svc.fit(X_train,y_train))\n",
    "\n",
    "#predict the results for test\n",
    "test_pred = svc.predict(X_test)\n",
    "#test the accuracy\n",
    "print(f'Accuracy Score: {accuracy_score(y_test, test_pred)}')\n",
    "print(f'Confusion Matrix: \\n{confusion_matrix(y_test, test_pred)}')\n",
    "\n",
    "# capture preduction stats\n",
    "yproba = svc.predict_proba(X_test)[:,1]\n",
    "fpr, tpr, _ = roc_curve(y_test, yproba)\n",
    "auc = roc_auc_score(y_test, yproba)\n",
    "results = results.append({'classifiers':'Support VC', 'fpr':fpr, 'tpr':tpr, 'auc':auc}, ignore_index=True)\n"
   ]
  },
  {
   "cell_type": "code",
   "execution_count": null,
   "metadata": {},
   "outputs": [],
   "source": []
  },
  {
   "cell_type": "code",
   "execution_count": null,
   "metadata": {},
   "outputs": [],
   "source": []
  },
  {
   "cell_type": "markdown",
   "metadata": {},
   "source": [
    "### Plotting the ROC curve"
   ]
  },
  {
   "cell_type": "code",
   "execution_count": 166,
   "metadata": {},
   "outputs": [
    {
     "data": {
      "text/html": [
       "<div>\n",
       "<style scoped>\n",
       "    .dataframe tbody tr th:only-of-type {\n",
       "        vertical-align: middle;\n",
       "    }\n",
       "\n",
       "    .dataframe tbody tr th {\n",
       "        vertical-align: top;\n",
       "    }\n",
       "\n",
       "    .dataframe thead th {\n",
       "        text-align: right;\n",
       "    }\n",
       "</style>\n",
       "<table border=\"1\" class=\"dataframe\">\n",
       "  <thead>\n",
       "    <tr style=\"text-align: right;\">\n",
       "      <th></th>\n",
       "      <th>fpr</th>\n",
       "      <th>tpr</th>\n",
       "      <th>auc</th>\n",
       "    </tr>\n",
       "    <tr>\n",
       "      <th>classifiers</th>\n",
       "      <th></th>\n",
       "      <th></th>\n",
       "      <th></th>\n",
       "    </tr>\n",
       "  </thead>\n",
       "  <tbody>\n",
       "    <tr>\n",
       "      <th>Random Forest</th>\n",
       "      <td>[0.0, 0.0, 0.0, 0.0, 0.0, 0.000851879459056543...</td>\n",
       "      <td>[0.0, 0.9424139775361027, 0.9964343020146194, ...</td>\n",
       "      <td>1.000000</td>\n",
       "    </tr>\n",
       "    <tr>\n",
       "      <th>Gradient Boosting</th>\n",
       "      <td>[0.0, 0.0, 0.0, 0.0, 0.0, 0.0, 0.0, 0.0, 0.0, ...</td>\n",
       "      <td>[0.0, 0.0067748261722232125, 0.022285612408628...</td>\n",
       "      <td>1.000000</td>\n",
       "    </tr>\n",
       "    <tr>\n",
       "      <th>K Neighbors</th>\n",
       "      <td>[0.0, 0.004046427430518582, 0.0040464274305185...</td>\n",
       "      <td>[0.0, 0.8821536815831699, 0.9055090033874131, ...</td>\n",
       "      <td>0.995322</td>\n",
       "    </tr>\n",
       "    <tr>\n",
       "      <th>Logistic Regression</th>\n",
       "      <td>[0.0, 0.0, 0.0, 0.9230113938877649, 0.92322436...</td>\n",
       "      <td>[0.0, 0.00017828489926903192, 1.0, 1.0, 1.0, 1.0]</td>\n",
       "      <td>1.000000</td>\n",
       "    </tr>\n",
       "    <tr>\n",
       "      <th>Support VC</th>\n",
       "      <td>[0.0, 0.0, 0.0, 0.24459588968161006, 1.0]</td>\n",
       "      <td>[0.0, 0.02531645569620253, 1.0, 1.0, 1.0]</td>\n",
       "      <td>1.000000</td>\n",
       "    </tr>\n",
       "  </tbody>\n",
       "</table>\n",
       "</div>"
      ],
      "text/plain": [
       "                                                                   fpr  \\\n",
       "classifiers                                                              \n",
       "Random Forest        [0.0, 0.0, 0.0, 0.0, 0.0, 0.000851879459056543...   \n",
       "Gradient Boosting    [0.0, 0.0, 0.0, 0.0, 0.0, 0.0, 0.0, 0.0, 0.0, ...   \n",
       "K Neighbors          [0.0, 0.004046427430518582, 0.0040464274305185...   \n",
       "Logistic Regression  [0.0, 0.0, 0.0, 0.9230113938877649, 0.92322436...   \n",
       "Support VC                   [0.0, 0.0, 0.0, 0.24459588968161006, 1.0]   \n",
       "\n",
       "                                                                   tpr  \\\n",
       "classifiers                                                              \n",
       "Random Forest        [0.0, 0.9424139775361027, 0.9964343020146194, ...   \n",
       "Gradient Boosting    [0.0, 0.0067748261722232125, 0.022285612408628...   \n",
       "K Neighbors          [0.0, 0.8821536815831699, 0.9055090033874131, ...   \n",
       "Logistic Regression  [0.0, 0.00017828489926903192, 1.0, 1.0, 1.0, 1.0]   \n",
       "Support VC                   [0.0, 0.02531645569620253, 1.0, 1.0, 1.0]   \n",
       "\n",
       "                          auc  \n",
       "classifiers                    \n",
       "Random Forest        1.000000  \n",
       "Gradient Boosting    1.000000  \n",
       "K Neighbors          0.995322  \n",
       "Logistic Regression  1.000000  \n",
       "Support VC           1.000000  "
      ]
     },
     "execution_count": 166,
     "metadata": {},
     "output_type": "execute_result"
    }
   ],
   "source": [
    "# Set name of the classifiers as index labels\n",
    "results.set_index('classifiers', inplace=True)\n",
    "results"
   ]
  },
  {
   "cell_type": "code",
   "execution_count": 167,
   "metadata": {},
   "outputs": [
    {
     "data": {
      "image/png": "[encoded data removed]",
      "text/plain": [
       "<Figure size 1080x576 with 1 Axes>"
      ]
     },
     "metadata": {
      "needs_background": "light"
     },
     "output_type": "display_data"
    }
   ],
   "source": [
    "fig = plt.figure(figsize=(15,8))\n",
    "for i in results.index:\n",
    "    plt.plot(results.loc[i]['fpr'], results.loc[i]['tpr'], \n",
    "             label=\"{}, AUC={:.3f}\".format(i, results.loc[i]['auc']))\n",
    "plt.plot([0,1], [0,1], color='black', linestyle='--')\n",
    "plt.xticks(np.arange(0.0, 1.1, step=0.1))\n",
    "plt.xlabel(\"Flase Positive Rate\", fontsize=15)\n",
    "plt.yticks(np.arange(0.0, 1.1, step=0.1))\n",
    "plt.ylabel(\"True Positive Rate\", fontsize=15)\n",
    "plt.title('ROC Curve Analysis', fontweight='bold', fontsize=15)\n",
    "plt.legend(prop={'size':13}, loc='lower right')\n",
    "plt.show()"
   ]
  },
  {
   "cell_type": "code",
   "execution_count": null,
   "metadata": {},
   "outputs": [],
   "source": []
  },
  {
   "cell_type": "markdown",
   "metadata": {},
   "source": [
    "### Feature selection\n",
    "We will use same approach as for prediction. Will selection feature importance/weight score for 3 top classifiers and will average it down. "
   ]
  },
  {
   "cell_type": "code",
   "execution_count": 168,
   "metadata": {},
   "outputs": [],
   "source": [
    "features = pd.DataFrame(columns=['lg','svc','rf','gb'])\n"
   ]
  },
  {
   "cell_type": "code",
   "execution_count": 169,
   "metadata": {},
   "outputs": [],
   "source": [
    "features['lg'] = lg.coef_[0]\n",
    "features['svc'] = svc.support_vectors_[0]\n",
    "features['rf'] = rf.feature_importances_\n",
    "features['gb'] = gb.feature_importances_\n"
   ]
  },
  {
   "cell_type": "code",
   "execution_count": 170,
   "metadata": {},
   "outputs": [],
   "source": [
    "# scale the values of features\n",
    "cols = features.columns.to_list()\n",
    "scaler = MinMaxScaler()\n",
    "scaler.fit(features)\n",
    "features = pd.DataFrame(scaler.transform(features),columns=cols)\n"
   ]
  },
  {
   "cell_type": "code",
   "execution_count": 172,
   "metadata": {},
   "outputs": [
    {
     "data": {
      "text/html": [
       "<div>\n",
       "<style scoped>\n",
       "    .dataframe tbody tr th:only-of-type {\n",
       "        vertical-align: middle;\n",
       "    }\n",
       "\n",
       "    .dataframe tbody tr th {\n",
       "        vertical-align: top;\n",
       "    }\n",
       "\n",
       "    .dataframe thead th {\n",
       "        text-align: right;\n",
       "    }\n",
       "</style>\n",
       "<table border=\"1\" class=\"dataframe\">\n",
       "  <thead>\n",
       "    <tr style=\"text-align: right;\">\n",
       "      <th></th>\n",
       "      <th>lg</th>\n",
       "      <th>svc</th>\n",
       "      <th>rf</th>\n",
       "      <th>gb</th>\n",
       "      <th>imp</th>\n",
       "    </tr>\n",
       "  </thead>\n",
       "  <tbody>\n",
       "    <tr>\n",
       "      <th>avg_dist</th>\n",
       "      <td>0.000000</td>\n",
       "      <td>0.023298</td>\n",
       "      <td>0.003350</td>\n",
       "      <td>0.000000e+00</td>\n",
       "      <td>0.006662</td>\n",
       "    </tr>\n",
       "    <tr>\n",
       "      <th>avg_rating_by_driver</th>\n",
       "      <td>0.014989</td>\n",
       "      <td>0.000000</td>\n",
       "      <td>0.025073</td>\n",
       "      <td>3.895609e-02</td>\n",
       "      <td>0.019754</td>\n",
       "    </tr>\n",
       "    <tr>\n",
       "      <th>avg_rating_of_driver</th>\n",
       "      <td>0.019801</td>\n",
       "      <td>1.000000</td>\n",
       "      <td>0.001641</td>\n",
       "      <td>5.612157e-08</td>\n",
       "      <td>0.255361</td>\n",
       "    </tr>\n",
       "    <tr>\n",
       "      <th>avg_surge</th>\n",
       "      <td>0.019074</td>\n",
       "      <td>0.000000</td>\n",
       "      <td>0.022945</td>\n",
       "      <td>8.942888e-03</td>\n",
       "      <td>0.012741</td>\n",
       "    </tr>\n",
       "    <tr>\n",
       "      <th>city</th>\n",
       "      <td>0.025118</td>\n",
       "      <td>0.000000</td>\n",
       "      <td>0.003867</td>\n",
       "      <td>6.442770e-04</td>\n",
       "      <td>0.007407</td>\n",
       "    </tr>\n",
       "    <tr>\n",
       "      <th>phone</th>\n",
       "      <td>0.032885</td>\n",
       "      <td>1.000000</td>\n",
       "      <td>0.017786</td>\n",
       "      <td>2.362399e-03</td>\n",
       "      <td>0.263258</td>\n",
       "    </tr>\n",
       "    <tr>\n",
       "      <th>surge_pct</th>\n",
       "      <td>0.021607</td>\n",
       "      <td>0.000000</td>\n",
       "      <td>0.034196</td>\n",
       "      <td>2.010349e-02</td>\n",
       "      <td>0.018976</td>\n",
       "    </tr>\n",
       "    <tr>\n",
       "      <th>trips_in_first_30_days</th>\n",
       "      <td>0.058606</td>\n",
       "      <td>0.000000</td>\n",
       "      <td>0.004746</td>\n",
       "      <td>9.966296e-04</td>\n",
       "      <td>0.016087</td>\n",
       "    </tr>\n",
       "    <tr>\n",
       "      <th>ultimate_black_user</th>\n",
       "      <td>0.031557</td>\n",
       "      <td>0.000000</td>\n",
       "      <td>0.003181</td>\n",
       "      <td>2.440667e-04</td>\n",
       "      <td>0.008745</td>\n",
       "    </tr>\n",
       "    <tr>\n",
       "      <th>weekday_pct</th>\n",
       "      <td>0.014887</td>\n",
       "      <td>1.000000</td>\n",
       "      <td>0.013380</td>\n",
       "      <td>4.394411e-03</td>\n",
       "      <td>0.258166</td>\n",
       "    </tr>\n",
       "    <tr>\n",
       "      <th>last_trip_year</th>\n",
       "      <td>0.017439</td>\n",
       "      <td>0.000000</td>\n",
       "      <td>0.000000</td>\n",
       "      <td>0.000000e+00</td>\n",
       "      <td>0.004360</td>\n",
       "    </tr>\n",
       "    <tr>\n",
       "      <th>last_trip_mon</th>\n",
       "      <td>1.000000</td>\n",
       "      <td>0.666667</td>\n",
       "      <td>1.000000</td>\n",
       "      <td>1.000000e+00</td>\n",
       "      <td>0.916667</td>\n",
       "    </tr>\n",
       "    <tr>\n",
       "      <th>last_trip_day</th>\n",
       "      <td>0.031072</td>\n",
       "      <td>0.766667</td>\n",
       "      <td>0.017055</td>\n",
       "      <td>2.056622e-04</td>\n",
       "      <td>0.203750</td>\n",
       "    </tr>\n",
       "    <tr>\n",
       "      <th>signup_year</th>\n",
       "      <td>0.017439</td>\n",
       "      <td>0.000000</td>\n",
       "      <td>0.000000</td>\n",
       "      <td>0.000000e+00</td>\n",
       "      <td>0.004360</td>\n",
       "    </tr>\n",
       "    <tr>\n",
       "      <th>signup_month</th>\n",
       "      <td>0.017439</td>\n",
       "      <td>0.000000</td>\n",
       "      <td>0.000000</td>\n",
       "      <td>0.000000e+00</td>\n",
       "      <td>0.004360</td>\n",
       "    </tr>\n",
       "    <tr>\n",
       "      <th>signup_day</th>\n",
       "      <td>0.015875</td>\n",
       "      <td>0.566667</td>\n",
       "      <td>0.002242</td>\n",
       "      <td>0.000000e+00</td>\n",
       "      <td>0.146196</td>\n",
       "    </tr>\n",
       "  </tbody>\n",
       "</table>\n",
       "</div>"
      ],
      "text/plain": [
       "                              lg       svc        rf            gb       imp\n",
       "avg_dist                0.000000  0.023298  0.003350  0.000000e+00  0.006662\n",
       "avg_rating_by_driver    0.014989  0.000000  0.025073  3.895609e-02  0.019754\n",
       "avg_rating_of_driver    0.019801  1.000000  0.001641  5.612157e-08  0.255361\n",
       "avg_surge               0.019074  0.000000  0.022945  8.942888e-03  0.012741\n",
       "city                    0.025118  0.000000  0.003867  6.442770e-04  0.007407\n",
       "phone                   0.032885  1.000000  0.017786  2.362399e-03  0.263258\n",
       "surge_pct               0.021607  0.000000  0.034196  2.010349e-02  0.018976\n",
       "trips_in_first_30_days  0.058606  0.000000  0.004746  9.966296e-04  0.016087\n",
       "ultimate_black_user     0.031557  0.000000  0.003181  2.440667e-04  0.008745\n",
       "weekday_pct             0.014887  1.000000  0.013380  4.394411e-03  0.258166\n",
       "last_trip_year          0.017439  0.000000  0.000000  0.000000e+00  0.004360\n",
       "last_trip_mon           1.000000  0.666667  1.000000  1.000000e+00  0.916667\n",
       "last_trip_day           0.031072  0.766667  0.017055  2.056622e-04  0.203750\n",
       "signup_year             0.017439  0.000000  0.000000  0.000000e+00  0.004360\n",
       "signup_month            0.017439  0.000000  0.000000  0.000000e+00  0.004360\n",
       "signup_day              0.015875  0.566667  0.002242  0.000000e+00  0.146196"
      ]
     },
     "execution_count": 172,
     "metadata": {},
     "output_type": "execute_result"
    }
   ],
   "source": [
    "features['imp'] = features[['lg','svc','rf','gb']].mean(axis=1)\n",
    "features = features.set_index(x.columns)\n",
    "features"
   ]
  },
  {
   "cell_type": "code",
   "execution_count": 173,
   "metadata": {},
   "outputs": [
    {
     "data": {
      "text/plain": [
       "Text(0.5, 1.0, 'Feature Importance to Attrition Prediction')"
      ]
     },
     "execution_count": 173,
     "metadata": {},
     "output_type": "execute_result"
    },
    {
     "data": {
      "image/png": "[encoded data removed]",
      "text/plain": [
       "<Figure size 864x504 with 1 Axes>"
      ]
     },
     "metadata": {
      "needs_background": "light"
     },
     "output_type": "display_data"
    }
   ],
   "source": [
    "feat_importances = pd.Series(features['imp'], index=features.index)\n",
    "feat_importances = feat_importances.nlargest(30)\n",
    "barplot = feat_importances.plot(kind='barh',figsize=(12,7),legend=False,fontsize=15)\n",
    "barplot.set_xlabel(\"Importance\",fontsize=15)\n",
    "#barplot.set_ylabel(\"Query Count(%)\",fontsize=15)\n",
    "barplot.set_title(\"Feature Importance to Attrition Prediction\",fontsize=20)\n"
   ]
  },
  {
   "cell_type": "code",
   "execution_count": null,
   "metadata": {},
   "outputs": [],
   "source": []
  },
  {
   "cell_type": "code",
   "execution_count": null,
   "metadata": {},
   "outputs": [],
   "source": []
  },
  {
   "cell_type": "code",
   "execution_count": null,
   "metadata": {},
   "outputs": [],
   "source": []
  },
  {
   "cell_type": "code",
   "execution_count": null,
   "metadata": {},
   "outputs": [],
   "source": []
  },
  {
   "cell_type": "code",
   "execution_count": null,
   "metadata": {},
   "outputs": [],
   "source": []
  },
  {
   "cell_type": "code",
   "execution_count": null,
   "metadata": {},
   "outputs": [],
   "source": []
  },
  {
   "cell_type": "code",
   "execution_count": null,
   "metadata": {},
   "outputs": [],
   "source": []
  }
 ],
 "metadata": {
  "kernelspec": {
   "display_name": "Python 3",
   "language": "python",
   "name": "python3"
  },
  "language_info": {
   "codemirror_mode": {
    "name": "ipython",
    "version": 3
   },
   "file_extension": ".py",
   "mimetype": "text/x-python",
   "name": "python",
   "nbconvert_exporter": "python",
   "pygments_lexer": "ipython3",
   "version": "3.7.3"
  }
 },
 "nbformat": 4,
 "nbformat_minor": 2
}
